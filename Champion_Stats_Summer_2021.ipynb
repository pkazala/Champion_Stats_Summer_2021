{
 "cells": [
  {
   "cell_type": "markdown",
   "id": "0474556d",
   "metadata": {},
   "source": [
    "### Predicting the Role of a Champion Based on Statistics Across an LEC Split Using ML Algorithms"
   ]
  },
  {
   "cell_type": "code",
   "execution_count": 6,
   "id": "4bba260b-8ab5-4c15-9bf0-d108b1b02988",
   "metadata": {},
   "outputs": [],
   "source": [
    "#importing all libraries that will be needed\n",
    "import pandas as pd\n",
    "import numpy as np\n",
    "import matplotlib.pyplot as plt\n",
    "from sklearn import linear_model\n",
    "from sklearn.model_selection import train_test_split\n",
    "from sklearn.linear_model import LogisticRegression\n",
    "from sklearn.naive_bayes import GaussianNB\n",
    "from sklearn.discriminant_analysis import LinearDiscriminantAnalysis\n",
    "from sklearn.ensemble import RandomForestClassifier\n",
    "from sklearn.metrics import confusion_matrix, accuracy_score"
   ]
  },
  {
   "cell_type": "markdown",
   "id": "1b821b44",
   "metadata": {},
   "source": [
    "Data reading and initial cleaning"
   ]
  },
  {
   "cell_type": "code",
   "execution_count": 7,
   "id": "928b051d",
   "metadata": {},
   "outputs": [
    {
     "name": "stdout",
     "output_type": "stream",
     "text": [
      "     Champion      Pos  GP    P%     B%   P+B%    W%  CTR%  K  D  ...  GD10  \\\n",
      "112     Vayne      ADC   1  1.1%   0.0%   1.1%    0%  100%  4  2  ...  -732   \n",
      "113  Volibear      Top   1  1.1%  17.8%  38.9%    0%  100%  2  4  ...   369   \n",
      "114     Yasuo   Middle   1  1.1%   2.2%   3.3%    0%  100%  4  4  ...   826   \n",
      "115       Zac   Jungle   1  1.1%   0.0%   1.1%  100%  100%  4  4  ...   618   \n",
      "116    Zilean  Support   1  1.1%   0.0%   1.1%    0%  100%  1  2  ...   310   \n",
      "\n",
      "    XPD10 CSD10 CSPM CS%P15  DPM   DMG%  GOLD%   WPM  WCPM  \n",
      "112  -243    -7  9.4  28.5%  504  22.2%  23.2%  0.75  0.32  \n",
      "113   181    16  8.9  25.3%  485  22.8%  23.1%  0.51   0.1  \n",
      "114   453     9  7.5  25.0%  311  15.4%  22.1%  0.45  0.17  \n",
      "115   420    -2  5.3  17.6%  536  17.2%  16.8%  0.95  0.34  \n",
      "116   234   -11  0.6   2.6%  237  12.3%   9.8%  1.64  0.42  \n",
      "\n",
      "[5 rows x 25 columns]\n"
     ]
    },
    {
     "data": {
      "text/plain": [
       "Champion    object\n",
       "Pos         object\n",
       "GP           int64\n",
       "P%          object\n",
       "B%          object\n",
       "P+B%        object\n",
       "W%          object\n",
       "CTR%        object\n",
       "K           object\n",
       "D           object\n",
       "A           object\n",
       "KDA         object\n",
       "KP          object\n",
       "DTH%        object\n",
       "FB%         object\n",
       "GD10        object\n",
       "XPD10       object\n",
       "CSD10       object\n",
       "CSPM        object\n",
       "CS%P15      object\n",
       "DPM         object\n",
       "DMG%        object\n",
       "GOLD%       object\n",
       "WPM         object\n",
       "WCPM        object\n",
       "dtype: object"
      ]
     },
     "execution_count": 7,
     "metadata": {},
     "output_type": "execute_result"
    }
   ],
   "source": [
    "#Importing the dataset and doing initial cleaning\n",
    "lec = pd.read_csv('LEC_2021_Summer_Champion_Stats.csv')\n",
    "\n",
    "for x in lec.index:\n",
    "    if lec.loc[x, 'GP'] == 0:\n",
    "        lec.drop(x, inplace = True)\n",
    "\n",
    "print(lec.tail())\n",
    "\n",
    "lec.dtypes"
   ]
  },
  {
   "cell_type": "markdown",
   "id": "101f7035",
   "metadata": {},
   "source": [
    "Data fitting"
   ]
  },
  {
   "cell_type": "code",
   "execution_count": 8,
   "id": "ebbbb6e9",
   "metadata": {},
   "outputs": [
    {
     "name": "stdout",
     "output_type": "stream",
     "text": [
      "   Champion  Pos  GP     P%     B%   P+B%   W% CTR%    K    D  ... GD10 XPD10  \\\n",
      "0  Tristana    0  34  37.8%  12.2%  50.0%  53%  50%  133   53  ...   30    -3   \n",
      "1   Alistar    3  33  36.7%  12.2%  48.9%  58%  48%   19  118  ...  -62   -60   \n",
      "2     Leona    3  31  34.4%  23.3%  57.8%  48%  23%   21  123  ...  -12   -26   \n",
      "3    Lucian    2  27  30.0%  46.7%  78.9%  44%   7%  108   67  ...  152   123   \n",
      "4    Rumble    1  26  28.9%  12.2%  41.1%  42%  31%   97   74  ...  264   254   \n",
      "\n",
      "  CSD10 CSPM CS%P15    DPM   DMG%  GOLD%   WPM  WCPM  \n",
      "0  -2.6  9.9  0.335  459.0  0.238  0.276  0.73  0.40  \n",
      "1  -1.9  1.0  0.026  123.0  0.066  0.085  1.58  0.34  \n",
      "2   2.1  1.1  0.026  121.0  0.061  0.083  1.55  0.42  \n",
      "3   7.6  9.0  0.267  509.0  0.259  0.260  0.42  0.22  \n",
      "4   7.7  6.3  0.177  467.0  0.239  0.196  0.47  0.23  \n",
      "\n",
      "[5 rows x 25 columns]\n",
      "Champion     object\n",
      "Pos            int8\n",
      "GP            int64\n",
      "P%           object\n",
      "B%           object\n",
      "P+B%         object\n",
      "W%           object\n",
      "CTR%         object\n",
      "K            object\n",
      "D            object\n",
      "A            object\n",
      "KDA          object\n",
      "KP           object\n",
      "DTH%         object\n",
      "FB%          object\n",
      "GD10         object\n",
      "XPD10        object\n",
      "CSD10        object\n",
      "CSPM        float64\n",
      "CS%P15      float64\n",
      "DPM         float64\n",
      "DMG%        float64\n",
      "GOLD%       float64\n",
      "WPM         float64\n",
      "WCPM        float64\n",
      "dtype: object\n"
     ]
    }
   ],
   "source": [
    "#Converting data to correct datatypes\n",
    "lec['CSPM'] = lec['CSPM'].astype(str).astype(float)\n",
    "lec['CS%P15'] = lec['CS%P15'].astype(str).str.rstrip('%').astype('float') / 100.0\n",
    "lec['DPM'] = lec['DPM'].astype(str).astype(float)\n",
    "lec['DMG%'] = lec['DMG%'].astype(str).str.rstrip('%').astype('float') / 100.0\n",
    "lec['GOLD%'] = lec['GOLD%'].astype(str).str.rstrip('%').astype('float') / 100.0\n",
    "lec['WPM'] = lec['WPM'].astype(str).astype(float)\n",
    "lec['WCPM'] = lec['WCPM'].astype(str).astype(float)\n",
    "lec['Pos'] = lec.Pos.astype('category')\n",
    "lec['Pos'] = lec['Pos'].cat.codes\n",
    "print(lec.head())\n",
    "print(lec.dtypes)"
   ]
  },
  {
   "cell_type": "markdown",
   "id": "b2f4633b",
   "metadata": {},
   "source": [
    "Modelling and results"
   ]
  },
  {
   "cell_type": "code",
   "execution_count": 9,
   "metadata": {},
   "outputs": [],
   "source": [
    "#Selecting data for modelling\n",
    "lec = lec[['CSPM', 'CS%P15', 'DMG%', 'GOLD%', 'WPM', 'WCPM', 'Pos']]\n",
    "\n",
    "X = lec[['CSPM','CS%P15','DMG%','GOLD%','WPM','WCPM']]\n",
    "Y = lec['Pos']"
   ]
  },
  {
   "cell_type": "code",
   "execution_count": 10,
   "id": "842a4cfb",
   "metadata": {},
   "outputs": [],
   "source": [
    "#Splitting data into training and testing sets\n",
    "X_train, X_test, Y_train, Y_test = train_test_split(X, Y, test_size = 0.25, random_state = 0)"
   ]
  },
  {
   "cell_type": "code",
   "execution_count": 11,
   "id": "e88eb68e",
   "metadata": {},
   "outputs": [
    {
     "data": {
      "text/plain": [
       "GaussianNB()"
      ]
     },
     "execution_count": 11,
     "metadata": {},
     "output_type": "execute_result"
    }
   ],
   "source": [
    "#Builing the first model - Gaussian Naive Bayes\n",
    "model1 = GaussianNB()\n",
    "model1.fit(X_train, Y_train)"
   ]
  },
  {
   "cell_type": "code",
   "execution_count": 12,
   "id": "814c3057",
   "metadata": {},
   "outputs": [
    {
     "name": "stdout",
     "output_type": "stream",
     "text": [
      "0.7241379310344828\n"
     ]
    }
   ],
   "source": [
    "#Model evaluation for just training data\n",
    "score1 = model1.score(X_train, Y_train)\n",
    "print(score1)"
   ]
  },
  {
   "cell_type": "code",
   "execution_count": 13,
   "id": "4e71f997",
   "metadata": {},
   "outputs": [
    {
     "name": "stdout",
     "output_type": "stream",
     "text": [
      "Accuracy: 73.33%\n",
      "Confusion Matrix:\n",
      "[[2 0 0 0 0]\n",
      " [1 5 0 0 0]\n",
      " [1 0 6 0 1]\n",
      " [0 0 0 6 0]\n",
      " [0 1 4 0 3]]\n"
     ]
    }
   ],
   "source": [
    "#Model evaluation\n",
    "pred1 = model1.predict(X_test)\n",
    "print(\"Accuracy: {}%\".format(round(accuracy_score(Y_test, pred1)*100, 2)))\n",
    "print(\"Confusion Matrix:\")\n",
    "print(\"{}\".format(confusion_matrix(Y_test, pred1)))"
   ]
  },
  {
   "cell_type": "code",
   "execution_count": 14,
   "id": "cde92bfe",
   "metadata": {},
   "outputs": [
    {
     "data": {
      "text/plain": [
       "LogisticRegression(max_iter=1000)"
      ]
     },
     "execution_count": 14,
     "metadata": {},
     "output_type": "execute_result"
    }
   ],
   "source": [
    "#Builing the second model - Logistic Regression\n",
    "model2 = LogisticRegression(solver='lbfgs', max_iter=1000)\n",
    "model2.fit(X_train, Y_train)"
   ]
  },
  {
   "cell_type": "code",
   "execution_count": 15,
   "id": "e8e80fc9",
   "metadata": {},
   "outputs": [
    {
     "data": {
      "text/plain": [
       "array([4, 2, 1, 2, 1, 4, 4, 0, 2, 4], dtype=int8)"
      ]
     },
     "execution_count": 15,
     "metadata": {},
     "output_type": "execute_result"
    }
   ],
   "source": [
    "model2.predict(X_test[0:10])"
   ]
  },
  {
   "cell_type": "code",
   "execution_count": 16,
   "id": "bab602ba",
   "metadata": {},
   "outputs": [
    {
     "name": "stdout",
     "output_type": "stream",
     "text": [
      "0.735632183908046\n"
     ]
    }
   ],
   "source": [
    "#Model evaluation for just training data\n",
    "score2 = model2.score(X_train, Y_train)\n",
    "print(score2)"
   ]
  },
  {
   "cell_type": "code",
   "execution_count": 17,
   "id": "3b37dca3",
   "metadata": {},
   "outputs": [
    {
     "name": "stdout",
     "output_type": "stream",
     "text": [
      "Accuracy: 83.33%\n",
      "Confusion Matrix:\n",
      "[[2 0 0 0 0]\n",
      " [0 6 0 0 0]\n",
      " [1 0 4 0 3]\n",
      " [0 0 0 6 0]\n",
      " [0 0 1 0 7]]\n"
     ]
    }
   ],
   "source": [
    "#Model evaluation\n",
    "pred2 = model2.predict(X_test)\n",
    "print(\"Accuracy: {}%\".format(round(accuracy_score(Y_test, pred2)*100, 2)))\n",
    "print(\"Confusion Matrix:\")\n",
    "print(\"{}\".format(confusion_matrix(Y_test, pred2)))"
   ]
  },
  {
   "cell_type": "code",
   "execution_count": 18,
   "id": "8c580dbe",
   "metadata": {},
   "outputs": [
    {
     "data": {
      "text/plain": [
       "LinearDiscriminantAnalysis()"
      ]
     },
     "execution_count": 18,
     "metadata": {},
     "output_type": "execute_result"
    }
   ],
   "source": [
    "#Builing the third model - Linear Discriminant Analysis\n",
    "model3 = LinearDiscriminantAnalysis()\n",
    "model3.fit(X_train, Y_train)"
   ]
  },
  {
   "cell_type": "code",
   "execution_count": 19,
   "id": "3aef334f",
   "metadata": {},
   "outputs": [
    {
     "name": "stdout",
     "output_type": "stream",
     "text": [
      "0.735632183908046\n"
     ]
    }
   ],
   "source": [
    "#Model evaluation for just training data\n",
    "score3 = model3.score(X_train, Y_train)\n",
    "print(score3)"
   ]
  },
  {
   "cell_type": "code",
   "execution_count": 20,
   "id": "ad6a5199",
   "metadata": {},
   "outputs": [
    {
     "name": "stdout",
     "output_type": "stream",
     "text": [
      "Accuracy: 80.0%\n",
      "Confusion Matrix:\n",
      "[[2 0 0 0 0]\n",
      " [0 6 0 0 0]\n",
      " [1 0 4 0 3]\n",
      " [0 0 0 6 0]\n",
      " [0 1 1 0 6]]\n"
     ]
    }
   ],
   "source": [
    "#Model evaluation\n",
    "pred3 = model3.predict(X_test)\n",
    "print(\"Accuracy: {}%\".format(round(accuracy_score(Y_test, pred3)*100, 2)))\n",
    "print(\"Confusion Matrix:\")\n",
    "print(\"{}\".format(confusion_matrix(Y_test, pred3)))"
   ]
  },
  {
   "cell_type": "code",
   "execution_count": 21,
   "id": "4dbcca6b",
   "metadata": {},
   "outputs": [
    {
     "data": {
      "text/plain": [
       "RandomForestClassifier(max_depth=6, random_state=0)"
      ]
     },
     "execution_count": 21,
     "metadata": {},
     "output_type": "execute_result"
    }
   ],
   "source": [
    "#Builing the fourth model - Random Forest Classifier\n",
    "model4 = RandomForestClassifier(max_depth=6, random_state=0)\n",
    "model4.fit(X_train, Y_train)"
   ]
  },
  {
   "cell_type": "code",
   "execution_count": 22,
   "id": "40c763d7",
   "metadata": {},
   "outputs": [
    {
     "name": "stdout",
     "output_type": "stream",
     "text": [
      "0.9770114942528736\n"
     ]
    }
   ],
   "source": [
    "#Model evaluation for just training data\n",
    "score4 = model4.score(X_train, Y_train)\n",
    "print(score4)"
   ]
  },
  {
   "cell_type": "code",
   "execution_count": 23,
   "id": "d40d19ed",
   "metadata": {},
   "outputs": [
    {
     "name": "stdout",
     "output_type": "stream",
     "text": [
      "Accuracy: 83.33%\n",
      "Confusion Matrix:\n",
      "[[2 0 0 0 0]\n",
      " [0 4 0 0 2]\n",
      " [1 0 5 0 2]\n",
      " [0 0 0 6 0]\n",
      " [0 0 0 0 8]]\n"
     ]
    }
   ],
   "source": [
    "#Model evaluation\n",
    "pred4 = model4.predict(X_test)\n",
    "print(\"Accuracy: {}%\".format(round(accuracy_score(Y_test, pred4)*100, 2)))\n",
    "print(\"Confusion Matrix:\")\n",
    "print(\"{}\".format(confusion_matrix(Y_test, pred4)))"
   ]
  },
  {
   "cell_type": "code",
   "execution_count": 55,
   "id": "f0a61923",
   "metadata": {},
   "outputs": [
    {
     "data": {
      "image/png": "[encoded data removed]",
      "text/plain": [
       "<Figure size 432x288 with 1 Axes>"
      ]
     },
     "metadata": {
      "needs_background": "light"
     },
     "output_type": "display_data"
    }
   ],
   "source": [
    "#showcasing results\n",
    "final_score1 = model1.score(X_test, Y_test)\n",
    "final_score2 = model2.score(X_test, Y_test)\n",
    "final_score3 = model3.score(X_test, Y_test)\n",
    "final_score4 = model4.score(X_test, Y_test)\n",
    "\n",
    "x = np.array(['GNB', 'Logistic Regression', 'LDA', 'RFC'])\n",
    "y = np.array([final_score1,final_score2,final_score3,final_score4])\n",
    "\n",
    "ind = np.arange(len(y))\n",
    "\n",
    "fig, ax = plt.subplots()\n",
    "ax.barh(ind, y)\n",
    "ax.set_yticks(ind)\n",
    "ax.set_yticklabels(x)\n",
    "ax.bar_label(ax.containers[0])\n",
    "plt.show()"
   ]
  }
 ],
 "metadata": {
  "kernelspec": {
   "display_name": "Python 3",
   "language": "python",
   "name": "python3"
  },
  "language_info": {
   "codemirror_mode": {
    "name": "ipython",
    "version": 3
   },
   "file_extension": ".py",
   "mimetype": "text/x-python",
   "name": "python",
   "nbconvert_exporter": "python",
   "pygments_lexer": "ipython3",
   "version": "3.9.1"
  }
 },
 "nbformat": 4,
 "nbformat_minor": 5
}
