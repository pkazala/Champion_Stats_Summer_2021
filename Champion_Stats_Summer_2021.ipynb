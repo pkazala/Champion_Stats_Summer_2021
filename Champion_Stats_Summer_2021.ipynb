{
 "cells": [
  {
   "cell_type": "markdown",
   "id": "0474556d",
   "metadata": {},
   "source": [
    "### Comparing Champion Statistics between the LEC and the LEC over the course of the 2021 Summer Split"
   ]
  },
  {
   "cell_type": "code",
   "execution_count": 16,
   "id": "4bba260b-8ab5-4c15-9bf0-d108b1b02988",
   "metadata": {},
   "outputs": [],
   "source": [
    "#importing all libraries that will be needed\n",
    "import pandas as pd\n",
    "import seaborn\n",
    "import numpy as np\n",
    "import matplotlib.pyplot as plt"
   ]
  },
  {
   "cell_type": "markdown",
   "id": "43e1f15b",
   "metadata": {},
   "source": []
  },
  {
   "cell_type": "markdown",
   "id": "1b821b44",
   "metadata": {},
   "source": [
    "Data reading and initial cleaning"
   ]
  },
  {
   "cell_type": "code",
   "execution_count": 17,
   "id": "928b051d",
   "metadata": {},
   "outputs": [
    {
     "name": "stdout",
     "output_type": "stream",
     "text": [
      "     Champion      Pos  GP    P%     B%   P+B%    W%  CTR%  K  D  ...  GD10  \\\n",
      "112     Vayne      ADC   1  1.1%   0.0%   1.1%    0%  100%  4  2  ...  -732   \n",
      "113  Volibear      Top   1  1.1%  17.8%  38.9%    0%  100%  2  4  ...   369   \n",
      "114     Yasuo   Middle   1  1.1%   2.2%   3.3%    0%  100%  4  4  ...   826   \n",
      "115       Zac   Jungle   1  1.1%   0.0%   1.1%  100%  100%  4  4  ...   618   \n",
      "116    Zilean  Support   1  1.1%   0.0%   1.1%    0%  100%  1  2  ...   310   \n",
      "\n",
      "    XPD10 CSD10 CSPM CS%P15  DPM   DMG%  GOLD%   WPM  WCPM  \n",
      "112  -243    -7  9.4  28.5%  504  22.2%  23.2%  0.75  0.32  \n",
      "113   181    16  8.9  25.3%  485  22.8%  23.1%  0.51   0.1  \n",
      "114   453     9  7.5  25.0%  311  15.4%  22.1%  0.45  0.17  \n",
      "115   420    -2  5.3  17.6%  536  17.2%  16.8%  0.95  0.34  \n",
      "116   234   -11  0.6   2.6%  237  12.3%   9.8%  1.64  0.42  \n",
      "\n",
      "[5 rows x 25 columns]\n",
      "     Champion     Pos  GP    P%    B%   P+B%    W%  CTR%  K  D  ...  GD10  \\\n",
      "125    Syndra     ADC   1  0.4%  5.8%  11.5%  100%  100%  1  1  ...   510   \n",
      "126  Tristana     Top   1  0.4%  1.8%   4.0%  100%  100%  5  0  ...   890   \n",
      "127   Trundle  Middle   1  0.4%  6.6%  19.0%  100%  100%  4  1  ...  -357   \n",
      "128  Volibear  Middle   1  0.4%  7.5%  20.8%    0%  100%  1  1  ...   300   \n",
      "129  Volibear     Top   1  0.4%  7.5%  20.8%    0%  100%  0  3  ...  -256   \n",
      "\n",
      "    XPD10 CSD10  CSPM CS%P15  DPM   DMG%  GOLD%   WPM  WCPM  \n",
      "125   586    25   9.6  27.3%  341  17.2%  20.8%  0.51   0.4  \n",
      "126   145    24  10.3  31.8%  551  30.4%  32.0%  0.33  0.67  \n",
      "127  -549   -23   8.3  23.9%  516  22.0%  24.2%  0.42  0.04  \n",
      "128   861     7   8.9  34.4%  271  22.3%  28.3%  0.45  0.17  \n",
      "129  -313     3   7.6  22.1%  263  16.7%  21.1%  0.32  0.25  \n",
      "\n",
      "[5 rows x 25 columns]\n"
     ]
    }
   ],
   "source": [
    "lec = pd.read_csv('LEC_2021_Summer_Champion_Stats.csv')\n",
    "lck = pd.read_csv('LCK_2021_Summer_Champion_Stats.csv')\n",
    "\n",
    "for x in lec.index:\n",
    "    if lec.loc[x, 'GP'] == 0:\n",
    "        lec.drop(x, inplace = True)\n",
    "\n",
    "for x in lck.index:\n",
    "    if lck.loc[x, 'GP'] == 0:\n",
    "        lck.drop(x, inplace = True)\n",
    "\n",
    "print(lec.tail())\n",
    "print(lck.tail())"
   ]
  },
  {
   "cell_type": "code",
   "execution_count": null,
   "id": "ebbbb6e9",
   "metadata": {},
   "outputs": [],
   "source": []
  }
 ],
 "metadata": {
  "kernelspec": {
   "display_name": "Python 3",
   "language": "python",
   "name": "python3"
  },
  "language_info": {
   "codemirror_mode": {
    "name": "ipython",
    "version": 3
   },
   "file_extension": ".py",
   "mimetype": "text/x-python",
   "name": "python",
   "nbconvert_exporter": "python",
   "pygments_lexer": "ipython3",
   "version": "3.9.1"
  }
 },
 "nbformat": 4,
 "nbformat_minor": 5
}
